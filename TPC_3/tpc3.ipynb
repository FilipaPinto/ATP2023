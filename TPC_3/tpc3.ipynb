{
 "cells": [
  {
   "cell_type": "markdown",
   "metadata": {},
   "source": [
    "## TPC3: Adivinha o número!?\n",
    "\n",
    "Desenvolve em Python o código necessário para o jogo do Adivinha o número: \n",
    "* O jogo deverá ter dois modos: o computador tenta acertar no número que o jogador pensou ou, o jogador tenta acertar no número que o computador pensou; \n",
    "* No fim, o programa deverá indicar quantas tentativas foram realizadas para chegar ao resultado;\n",
    "* O Jogo: \n",
    "    - o utilizador pensa num número entre 0 e 100;\n",
    "    - o computador tenta adivinhar indicando um número do intervalo;\n",
    "    - o utilizador indica se o número em que pensou é **maior**, **menor**, ou se o computador **acertou**;\n",
    "    - ao terminar, o programa imprime o número de tentativas que o computador teve de fazer até chegar ao número.\n",
    "\n",
    "Que conclusão podes tirar sobre o número de tentativas necessárias para um número entre 0 e 100? E se fosse entre 0 e 1000?"
   ]
  },
  {
   "cell_type": "code",
   "execution_count": null,
   "metadata": {},
   "outputs": [],
   "source": [
    "print (\"Escolha um dos dois modos de jogo para começar!\")\n",
    "modo= int( input(\"Qual o modo que pretende jogar? 1-adivinhar o númmero do computador 2- o computador adivinha o número\") )\n",
    "tentativas = 0 \n",
    "import random\n",
    "if modo == 1:\n",
    "    numero_pc = int (random.randrange(0,100))\n",
    "    x = int (input (\"escolha um número)\"))\n",
    "    while x != numero_pc:\n",
    "        if numero_pc < int (x):\n",
    "            print (\"o número é menor que \" + str(x))\n",
    "        elif numero_pc > int (x):\n",
    "            print (\"o número é maior que \" + str(x))\n",
    "        tentativas = tentativas + 1 \n",
    "        x= int( input(\"Ainda nã0 foi desta! Escolha outro número\"))\n",
    "    print (\"Parabéns! Adivinhou qual o número após \" + str(tentativas) + \" tentativas\")\n",
    "elif modo == 2:\n",
    "    print (\"Escolha um número de 0 a 100 para o computador adivinhar\")\n",
    "    superior = 100\n",
    "    inferior = 0\n",
    "    x = 0\n",
    "    resposta = str()\n",
    "    acertou = str(\"acertou\")\n",
    "    while resposta != str(\"acertou\"):\n",
    "        x = int ((superior + inferior) / 2)\n",
    "        resposta = input (\"o seu número é \" + str(x) + \" ?\")\n",
    "        if resposta == \"maior\":\n",
    "            inferior = x\n",
    "        else:\n",
    "            superior = x\n",
    "        tentativas = tentativas + 1\n",
    "    print (\"O computador adivinhou o número em \" + str(tentativas) + \" tentativas\")"
   ]
  }
 ],
 "metadata": {
  "kernelspec": {
   "display_name": "Python 3",
   "language": "python",
   "name": "python3"
  },
  "language_info": {
   "name": "python",
   "version": "3.11.5"
  },
  "orig_nbformat": 4
 },
 "nbformat": 4,
 "nbformat_minor": 2
}
